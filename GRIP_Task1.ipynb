{
  "nbformat": 4,
  "nbformat_minor": 0,
  "metadata": {
    "kernelspec": {
      "display_name": "Python 3",
      "language": "python",
      "name": "python3"
    },
    "language_info": {
      "codemirror_mode": {
        "name": "ipython",
        "version": 3
      },
      "file_extension": ".py",
      "mimetype": "text/x-python",
      "name": "python",
      "nbconvert_exporter": "python",
      "pygments_lexer": "ipython3",
      "version": "3.8.3"
    },
    "colab": {
      "name": "GRIP_Task1.ipynb",
      "provenance": []
    }
  },
  "cells": [
    {
      "cell_type": "markdown",
      "metadata": {
        "id": "si8SANHWQ_vG"
      },
      "source": [
        "\n",
        "\n",
        "# Name : Shree Rakshitha L\n",
        "\n",
        "**Task1**: Implementing simple linear regression"
      ]
    },
    {
      "cell_type": "markdown",
      "metadata": {
        "id": "IY7nffUFQ_vT"
      },
      "source": [
        "## Problem Statement\n",
        "\n",
        "Predict the percentage of an student based on the no. of study hours."
      ]
    },
    {
      "cell_type": "markdown",
      "metadata": {
        "id": "wt2pTOLkQ_vW"
      },
      "source": [
        "## Feature Description\n",
        "\n",
        "1.**Hours** : The number of hours student studied in a day . This is the Independent/explanatory variable.\n",
        "\n",
        "2.**Scores**: Percentage of marks obtained by students corresponding to number of hours . This is the dependent/target variable."
      ]
    },
    {
      "cell_type": "markdown",
      "metadata": {
        "id": "Rravmg7aQ_vZ"
      },
      "source": [
        "# Preprocessing steps"
      ]
    },
    {
      "cell_type": "markdown",
      "metadata": {
        "id": "E51yAYyYQ_vb"
      },
      "source": [
        "## 1.Import necessary libraries"
      ]
    },
    {
      "cell_type": "code",
      "metadata": {
        "id": "NcZOZ9T0Q_vd"
      },
      "source": [
        "import numpy as np\n",
        "import pandas as pd\n",
        "import matplotlib.pyplot as plt\n",
        "import seaborn as sns \n",
        "import warnings\n",
        "warnings.filterwarnings(\"ignore\")"
      ],
      "execution_count": null,
      "outputs": []
    },
    {
      "cell_type": "markdown",
      "metadata": {
        "id": "0nhpSv2yQ_vm"
      },
      "source": [
        "## 2.Import the dataset"
      ]
    },
    {
      "cell_type": "code",
      "metadata": {
        "id": "nNIhxwnIQ_vp",
        "outputId": "90a61394-405d-4f07-ba0f-7e365f772f6b"
      },
      "source": [
        "data = pd.read_csv(\"https://raw.githubusercontent.com/AdiPersonalWorks/Random/master/student_scores%20-%20student_scores.csv\")\n",
        "data.shape"
      ],
      "execution_count": null,
      "outputs": [
        {
          "data": {
            "text/plain": [
              "(25, 2)"
            ]
          },
          "execution_count": 3,
          "metadata": {},
          "output_type": "execute_result"
        }
      ]
    },
    {
      "cell_type": "markdown",
      "metadata": {
        "id": "WRqlfpKgQ_vx"
      },
      "source": [
        "The given dataset has 25 rows and 2 columns "
      ]
    },
    {
      "cell_type": "markdown",
      "metadata": {
        "id": "4No8dJ4FQ_v2"
      },
      "source": [
        "## 3 . Visulalize the dataset"
      ]
    },
    {
      "cell_type": "code",
      "metadata": {
        "id": "UOV7IwcVQ_v5",
        "outputId": "773aecd3-97bc-4a41-dec7-5f7c9a78b35f"
      },
      "source": [
        "#Plot a scatterplot between hours and score\n",
        "plt.scatter(data['Hours'],data['Scores'])  \n",
        "\n",
        "#Name the scatterplot\n",
        "plt.title(\"Visualizing the dataset\")\n",
        "\n",
        "#Name the x axis label\n",
        "plt.xlabel('Hours')\n",
        "\n",
        "#Name the y axis label\n",
        "plt.ylabel('Marks Scored')\n",
        "\n",
        "#Show the scatterplot\n",
        "plt.show()"
      ],
      "execution_count": null,
      "outputs": [
        {
          "data": {
            "image/png": "[encoded data removed]",
            "text/plain": [
              "<Figure size 432x288 with 1 Axes>"
            ]
          },
          "metadata": {
            "needs_background": "light"
          },
          "output_type": "display_data"
        }
      ]
    },
    {
      "cell_type": "markdown",
      "metadata": {
        "id": "mM5O_amRQ_v8"
      },
      "source": [
        "From the scatterplot it is clear that Hours and Marks scored are positively correlated . As the number of study hours increases the marks scored also increases . "
      ]
    },
    {
      "cell_type": "markdown",
      "metadata": {
        "id": "ySY9S2TrQ_v_"
      },
      "source": [
        "## 4.Check for any missing values"
      ]
    },
    {
      "cell_type": "code",
      "metadata": {
        "id": "P3xUQP9mQ_wB",
        "outputId": "96fce8d1-c449-4aa2-9001-7c5cd921d267"
      },
      "source": [
        "data.isna().sum()"
      ],
      "execution_count": null,
      "outputs": [
        {
          "data": {
            "text/plain": [
              "Hours     0\n",
              "Scores    0\n",
              "dtype: int64"
            ]
          },
          "execution_count": 42,
          "metadata": {},
          "output_type": "execute_result"
        }
      ]
    },
    {
      "cell_type": "markdown",
      "metadata": {
        "id": "s7fzsTwkQ_wD"
      },
      "source": [
        "No missing values is found in the dataset"
      ]
    },
    {
      "cell_type": "markdown",
      "metadata": {
        "id": "PIEPe0R3Q_wE"
      },
      "source": [
        "# Building linear regression model"
      ]
    },
    {
      "cell_type": "markdown",
      "metadata": {
        "id": "D8AAjWieQ_wG"
      },
      "source": [
        "## 1. Specify the independent and dependent variables"
      ]
    },
    {
      "cell_type": "code",
      "metadata": {
        "id": "gbeQITIdQ_wI",
        "outputId": "5878351e-f9f0-4862-85ad-936781fc5088"
      },
      "source": [
        "#Drop the target variable column and store the rest as explanatory variable\n",
        "X_data = data.drop(\"Scores\",axis=1)\n",
        "\n",
        "#Store the target variable \n",
        "Y_data = data[\"Scores\"]\n",
        "\n",
        "#Explanatory_variable description\n",
        "X_data.head()"
      ],
      "execution_count": null,
      "outputs": [
        {
          "data": {
            "text/html": [
              "<div>\n",
              "<style scoped>\n",
              "    .dataframe tbody tr th:only-of-type {\n",
              "        vertical-align: middle;\n",
              "    }\n",
              "\n",
              "    .dataframe tbody tr th {\n",
              "        vertical-align: top;\n",
              "    }\n",
              "\n",
              "    .dataframe thead th {\n",
              "        text-align: right;\n",
              "    }\n",
              "</style>\n",
              "<table border=\"1\" class=\"dataframe\">\n",
              "  <thead>\n",
              "    <tr style=\"text-align: right;\">\n",
              "      <th></th>\n",
              "      <th>Hours</th>\n",
              "    </tr>\n",
              "  </thead>\n",
              "  <tbody>\n",
              "    <tr>\n",
              "      <th>0</th>\n",
              "      <td>2.5</td>\n",
              "    </tr>\n",
              "    <tr>\n",
              "      <th>1</th>\n",
              "      <td>5.1</td>\n",
              "    </tr>\n",
              "    <tr>\n",
              "      <th>2</th>\n",
              "      <td>3.2</td>\n",
              "    </tr>\n",
              "    <tr>\n",
              "      <th>3</th>\n",
              "      <td>8.5</td>\n",
              "    </tr>\n",
              "    <tr>\n",
              "      <th>4</th>\n",
              "      <td>3.5</td>\n",
              "    </tr>\n",
              "  </tbody>\n",
              "</table>\n",
              "</div>"
            ],
            "text/plain": [
              "   Hours\n",
              "0    2.5\n",
              "1    5.1\n",
              "2    3.2\n",
              "3    8.5\n",
              "4    3.5"
            ]
          },
          "execution_count": 16,
          "metadata": {},
          "output_type": "execute_result"
        }
      ]
    },
    {
      "cell_type": "code",
      "metadata": {
        "id": "dpP5LcZTQ_wL",
        "outputId": "2cd171ff-cf26-44b6-abd2-c8d68dc99e1a"
      },
      "source": [
        "#Target variable description\n",
        "Y_data.head()"
      ],
      "execution_count": null,
      "outputs": [
        {
          "data": {
            "text/plain": [
              "0    21\n",
              "1    47\n",
              "2    27\n",
              "3    75\n",
              "4    30\n",
              "Name: Scores, dtype: int64"
            ]
          },
          "execution_count": 15,
          "metadata": {},
          "output_type": "execute_result"
        }
      ]
    },
    {
      "cell_type": "markdown",
      "metadata": {
        "id": "rBjkI7E5Q_wN"
      },
      "source": [
        "## 2. Split the dataset into train set and test set"
      ]
    },
    {
      "cell_type": "code",
      "metadata": {
        "id": "upsmA8TuQ_wP"
      },
      "source": [
        "#import train_test_split from sci-kit learn library\n",
        "from sklearn.model_selection import train_test_split\n",
        "\n",
        "#Split the data into training set and testing set in the ration 0.7:0.3\n",
        "X_train,X_test,y_train,y_test = train_test_split(X_data,Y_data,test_size = 0.3,random_state = 0)"
      ],
      "execution_count": null,
      "outputs": []
    },
    {
      "cell_type": "markdown",
      "metadata": {
        "id": "2C82RQLrQ_wR"
      },
      "source": [
        "## 3. Linear Regression Model"
      ]
    },
    {
      "cell_type": "code",
      "metadata": {
        "id": "nhRJuvwNQ_wS"
      },
      "source": [
        "#Import LinearReression model from sci-kit learn\n",
        "from sklearn.linear_model import LinearRegression\n",
        "\n",
        "#Instantiate a regressor\n",
        "regressor = LinearRegression()\n",
        "\n",
        "#Fit the model to training data set\n",
        "reg_fit = regressor.fit(X_train,y_train)\n",
        "\n"
      ],
      "execution_count": null,
      "outputs": []
    },
    {
      "cell_type": "markdown",
      "metadata": {
        "id": "Up71BTEJQ_wT"
      },
      "source": [
        "## 4.Visualize data for trainset and testset"
      ]
    },
    {
      "cell_type": "code",
      "metadata": {
        "id": "y8aame4yQ_wU",
        "outputId": "0b6b6023-4275-412d-f350-1533cc924fd2"
      },
      "source": [
        "#Visualize for trainset\n",
        "plt.scatter(X_train, y_train)\n",
        "plt.plot(X_train, regressor.predict(X_train),color = \"green\")\n",
        "plt.title('Visualizing Training set')\n",
        "plt.xlabel('Hours')\n",
        "plt.ylabel('Score')\n",
        "plt.show()"
      ],
      "execution_count": null,
      "outputs": [
        {
          "data": {
            "image/png": "[encoded data removed]",
            "text/plain": [
              "<Figure size 432x288 with 1 Axes>"
            ]
          },
          "metadata": {
            "needs_background": "light"
          },
          "output_type": "display_data"
        }
      ]
    },
    {
      "cell_type": "code",
      "metadata": {
        "id": "SV-SbMyxQ_wX",
        "outputId": "462d4d07-df3c-4a7b-ed5e-e31a338324d4"
      },
      "source": [
        "#Visualize Test set\n",
        "plt.scatter(X_test, y_test)\n",
        "plt.plot(X_train, regressor.predict(X_train),color = \"green\")\n",
        "plt.title('Visualize Test set')\n",
        "plt.xlabel('Hours ')\n",
        "plt.ylabel('Score')\n",
        "plt.show()\n"
      ],
      "execution_count": null,
      "outputs": [
        {
          "data": {
            "image/png": "[encoded data removed]",
            "text/plain": [
              "<Figure size 432x288 with 1 Axes>"
            ]
          },
          "metadata": {
            "needs_background": "light"
          },
          "output_type": "display_data"
        }
      ]
    },
    {
      "cell_type": "markdown",
      "metadata": {
        "id": "70rnxdz0Q_wZ"
      },
      "source": [
        "## 5.Prediction for test set"
      ]
    },
    {
      "cell_type": "code",
      "metadata": {
        "id": "HjCavsU7Q_wa",
        "outputId": "b165326c-a4ca-4c49-f1c3-1e8135894f27"
      },
      "source": [
        "#Predict the test set\n",
        "pred_test = reg_fit.predict(X_test)\n",
        "\n",
        "# Comparing Actual vs Predicted\n",
        "df = pd.DataFrame({'Actual': y_test, 'Predicted': pred_test})  \n",
        "df"
      ],
      "execution_count": null,
      "outputs": [
        {
          "data": {
            "text/html": [
              "<div>\n",
              "<style scoped>\n",
              "    .dataframe tbody tr th:only-of-type {\n",
              "        vertical-align: middle;\n",
              "    }\n",
              "\n",
              "    .dataframe tbody tr th {\n",
              "        vertical-align: top;\n",
              "    }\n",
              "\n",
              "    .dataframe thead th {\n",
              "        text-align: right;\n",
              "    }\n",
              "</style>\n",
              "<table border=\"1\" class=\"dataframe\">\n",
              "  <thead>\n",
              "    <tr style=\"text-align: right;\">\n",
              "      <th></th>\n",
              "      <th>Actual</th>\n",
              "      <th>Predicted</th>\n",
              "    </tr>\n",
              "  </thead>\n",
              "  <tbody>\n",
              "    <tr>\n",
              "      <th>5</th>\n",
              "      <td>20</td>\n",
              "      <td>17.053665</td>\n",
              "    </tr>\n",
              "    <tr>\n",
              "      <th>2</th>\n",
              "      <td>27</td>\n",
              "      <td>33.694229</td>\n",
              "    </tr>\n",
              "    <tr>\n",
              "      <th>19</th>\n",
              "      <td>69</td>\n",
              "      <td>74.806209</td>\n",
              "    </tr>\n",
              "    <tr>\n",
              "      <th>16</th>\n",
              "      <td>30</td>\n",
              "      <td>26.842232</td>\n",
              "    </tr>\n",
              "    <tr>\n",
              "      <th>11</th>\n",
              "      <td>62</td>\n",
              "      <td>60.123359</td>\n",
              "    </tr>\n",
              "    <tr>\n",
              "      <th>22</th>\n",
              "      <td>35</td>\n",
              "      <td>39.567369</td>\n",
              "    </tr>\n",
              "    <tr>\n",
              "      <th>17</th>\n",
              "      <td>24</td>\n",
              "      <td>20.969092</td>\n",
              "    </tr>\n",
              "    <tr>\n",
              "      <th>24</th>\n",
              "      <td>86</td>\n",
              "      <td>78.721636</td>\n",
              "    </tr>\n",
              "  </tbody>\n",
              "</table>\n",
              "</div>"
            ],
            "text/plain": [
              "    Actual  Predicted\n",
              "5       20  17.053665\n",
              "2       27  33.694229\n",
              "19      69  74.806209\n",
              "16      30  26.842232\n",
              "11      62  60.123359\n",
              "22      35  39.567369\n",
              "17      24  20.969092\n",
              "24      86  78.721636"
            ]
          },
          "execution_count": 36,
          "metadata": {},
          "output_type": "execute_result"
        }
      ]
    },
    {
      "cell_type": "markdown",
      "metadata": {
        "id": "s-BD9kztQ_we"
      },
      "source": [
        "## 6.Evaluating the model"
      ]
    },
    {
      "cell_type": "code",
      "metadata": {
        "id": "Bjw4yHcEQ_wf",
        "outputId": "e4a82d00-4e46-44f1-d704-4f55f127643f"
      },
      "source": [
        "# Checking r2_score\n",
        "\n",
        "r2_score=reg_fit.score(X_train,y_train)\n",
        "print(\"The R-Squared value: \",round(r2_score,3))"
      ],
      "execution_count": null,
      "outputs": [
        {
          "name": "stdout",
          "output_type": "stream",
          "text": [
            "The R-Squared value:  0.948\n"
          ]
        }
      ]
    },
    {
      "cell_type": "markdown",
      "metadata": {
        "id": "ETpiWvsRQ_wh"
      },
      "source": [
        "The r-squared value is 0.948 or 94.8% .\n",
        "This indicates that the target variable is able explain 94% of the variance due to the independent variable."
      ]
    },
    {
      "cell_type": "markdown",
      "metadata": {
        "id": "jLfm58g2Q_wi"
      },
      "source": [
        "## 7.Predicting the score if a student studies for 9.25 hrs/ day?"
      ]
    },
    {
      "cell_type": "code",
      "metadata": {
        "id": "Phl-kb4MQ_wi",
        "outputId": "fad124e7-198c-4ac4-b892-a32b2bf54c60"
      },
      "source": [
        "hours_day=9.25\n",
        "hours_day=np.array(hours_day).reshape(1, -1)\n",
        "print(\"The predicted score if a student studies\",hours_day[0][0],\"hours in a day is:\",round(reg_fit.predict(hours_day)[0],2))"
      ],
      "execution_count": null,
      "outputs": [
        {
          "name": "stdout",
          "output_type": "stream",
          "text": [
            "The predicted score if a student studies 9.25 hours in a day is: 92.92\n"
          ]
        }
      ]
    }
  ]
}